{
 "cells": [
  {
   "cell_type": "code",
   "execution_count": 3,
   "metadata": {},
   "outputs": [
    {
     "name": "stdout",
     "output_type": "stream",
     "text": [
      "2.5724787771376323\n",
      "4.28746462856272\n",
      "4.999999999999999\n"
     ]
    }
   ],
   "source": [
    "a= 12\n",
    "b=20\n",
    "c=(a**2+b**2)**0.5\n",
    "print((a/c)*5)\n",
    "print((b/c)*5)\n",
    "\n",
    "def hipotenusa(a,b):\n",
    "    c=(a**2+b**2)**0.5\n",
    "    return c\n",
    "\n",
    "e = (a/c)*5\n",
    "f = (b/c)*5\n",
    "print(hipotenusa(e,f))\n"
   ]
  },
  {
   "cell_type": "code",
   "execution_count": 5,
   "metadata": {},
   "outputs": [],
   "source": [
    "import numpy as np\n",
    "\n",
    "v = np.array([[0.91, 0.65, 0.72, 0.10, 0.36], [0.01, 0.90, 0.44, 0.70, 0.08], [0.46, 0.69, 0.59, 0.34, 0.67], [0.31, 0.27, 0.97, 0.80, 0.39], [0.51, 0.93, 0.61, 0.35, 0.18], [0.11, 0.14, 0.93, 0.96, 0.25], [0.94, 0.17, 0.40, 0.16, 0.20], [0.44, 0.42, 0.98, 0.46, 0.31], [0.99, 0.22, 0.30, 0.06, 0.39], [0.49, 0.80, 0.43, 0.85, 0.85], [0.46, 0.14, 0.41, 0.64, 0.77]])"
   ]
  },
  {
   "cell_type": "code",
   "execution_count": 9,
   "metadata": {},
   "outputs": [
    {
     "data": {
      "text/plain": [
       "1.0668176976409793"
      ]
     },
     "execution_count": 9,
     "metadata": {},
     "output_type": "execute_result"
    }
   ],
   "source": [
    "min(np.linalg.norm(v, axis=1))\n"
   ]
  },
  {
   "cell_type": "code",
   "execution_count": 13,
   "metadata": {},
   "outputs": [
    {
     "name": "stdout",
     "output_type": "stream",
     "text": [
      "[0.91 0.65 0.72 0.1  0.36] -> 1.3815209010362457\n",
      "[0.01 0.9  0.44 0.7  0.08] -> 1.2247856955402443\n",
      "[0.46 0.69 0.59 0.34 0.67] -> 1.265029643921438\n",
      "[0.31 0.27 0.97 0.8  0.39] -> 1.379130160644745\n",
      "[0.51 0.93 0.61 0.35 0.18] -> 1.2853015210447702\n",
      "[0.11 0.14 0.93 0.96 0.25] -> 1.371386160058501\n",
      "[0.94 0.17 0.4  0.16 0.2 ] -> 1.0668176976409793\n",
      "[0.44 0.42 0.98 0.46 0.31] -> 1.2798828071350907\n",
      "[0.99 0.22 0.3  0.06 0.39] -> 1.1288046775239726\n",
      "[0.49 0.8  0.43 0.85 0.85] -> 1.5842979517754858\n",
      "[0.46 0.14 0.41 0.64 0.77] -> 1.1839763511151733\n"
     ]
    }
   ],
   "source": [
    "a = np.linalg.norm(v, axis=1)\n",
    "for i in range(len(a)):\n",
    "    print(f'{v[i]} -> {a[i]}')"
   ]
  }
 ],
 "metadata": {
  "kernelspec": {
   "display_name": "Python 3",
   "language": "python",
   "name": "python3"
  },
  "language_info": {
   "codemirror_mode": {
    "name": "ipython",
    "version": 3
   },
   "file_extension": ".py",
   "mimetype": "text/x-python",
   "name": "python",
   "nbconvert_exporter": "python",
   "pygments_lexer": "ipython3",
   "version": "3.11.5"
  }
 },
 "nbformat": 4,
 "nbformat_minor": 2
}
